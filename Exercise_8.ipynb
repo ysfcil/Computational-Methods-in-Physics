{
 "cells": [
  {
   "cell_type": "code",
   "execution_count": 105,
   "metadata": {},
   "outputs": [],
   "source": [
    "import numpy as np\n",
    "import matplotlib.pyplot as plt\n",
    "import time\n",
    "import random"
   ]
  },
  {
   "cell_type": "code",
   "execution_count": 106,
   "metadata": {},
   "outputs": [
    {
     "name": "stdout",
     "output_type": "stream",
     "text": [
      "-98.5\n",
      "3\n"
     ]
    }
   ],
   "source": [
    "reward = 20\n",
    "for i in range(300):\n",
    " x_rand = np.random.randint(1,5)\n",
    " x_rand2 = np.random.randint(1,5)\n",
    " y_rand = np.random.randint(1,5)\n",
    " y_rand2 = np.random.randint(1,5)\n",
    " if (x_rand == x_rand2 and y_rand == y_rand2):\n",
    "  reward += 1\n",
    " else:\n",
    "  reward-= 0.5\n",
    "print(reward)\n",
    "print(np.random.randint(1,4))"
   ]
  }
 ],
 "metadata": {
  "kernelspec": {
   "display_name": "Python 3",
   "language": "python",
   "name": "python3"
  },
  "language_info": {
   "codemirror_mode": {
    "name": "ipython",
    "version": 3
   },
   "file_extension": ".py",
   "mimetype": "text/x-python",
   "name": "python",
   "nbconvert_exporter": "python",
   "pygments_lexer": "ipython3",
   "version": "3.10.11"
  },
  "orig_nbformat": 4
 },
 "nbformat": 4,
 "nbformat_minor": 2
}
