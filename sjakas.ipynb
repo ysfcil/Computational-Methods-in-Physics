{
 "cells": [
  {
   "cell_type": "code",
   "execution_count": 1,
   "metadata": {},
   "outputs": [
    {
     "ename": "ModuleNotFoundError",
     "evalue": "No module named 'scipy'",
     "output_type": "error",
     "traceback": [
      "\u001b[1;31m---------------------------------------------------------------------------\u001b[0m",
      "\u001b[1;31mModuleNotFoundError\u001b[0m                       Traceback (most recent call last)",
      "Cell \u001b[1;32mIn[1], line 3\u001b[0m\n\u001b[0;32m      1\u001b[0m \u001b[39mimport\u001b[39;00m \u001b[39mpandas\u001b[39;00m \u001b[39mas\u001b[39;00m \u001b[39mpd\u001b[39;00m\n\u001b[0;32m      2\u001b[0m \u001b[39mimport\u001b[39;00m \u001b[39mnumpy\u001b[39;00m \u001b[39mas\u001b[39;00m \u001b[39mnp\u001b[39;00m\n\u001b[1;32m----> 3\u001b[0m \u001b[39mimport\u001b[39;00m \u001b[39mscipy\u001b[39;00m\u001b[39m.\u001b[39;00m\u001b[39mstats\u001b[39;00m \u001b[39mas\u001b[39;00m \u001b[39mstats\u001b[39;00m\n\u001b[0;32m      5\u001b[0m \u001b[39m# create a pandas dataframe with the data\u001b[39;00m\n\u001b[0;32m      6\u001b[0m df \u001b[39m=\u001b[39m pd\u001b[39m.\u001b[39mDataFrame({\n\u001b[0;32m      7\u001b[0m     \u001b[39m'\u001b[39m\u001b[39mcricket_value\u001b[39m\u001b[39m'\u001b[39m: [\u001b[39m80\u001b[39m, \u001b[39m20\u001b[39m, \u001b[39m30\u001b[39m, \u001b[39m90\u001b[39m, \u001b[39m10\u001b[39m, \u001b[39m95\u001b[39m, \u001b[39m70\u001b[39m, \u001b[39m25\u001b[39m, \u001b[39m15\u001b[39m, \u001b[39m85\u001b[39m],\n\u001b[0;32m      8\u001b[0m     \u001b[39m'\u001b[39m\u001b[39mtemperature\u001b[39m\u001b[39m'\u001b[39m: [\u001b[39m30\u001b[39m, \u001b[39m30\u001b[39m, \u001b[39m30\u001b[39m, \u001b[39m20\u001b[39m, \u001b[39m20\u001b[39m, \u001b[39m20\u001b[39m, \u001b[39m10\u001b[39m, \u001b[39m10\u001b[39m, \u001b[39m10\u001b[39m, \u001b[39m10\u001b[39m]\n\u001b[0;32m      9\u001b[0m })\n",
      "\u001b[1;31mModuleNotFoundError\u001b[0m: No module named 'scipy'"
     ]
    }
   ],
   "source": [
    "import pandas as pd\n",
    "import numpy as np\n",
    "import scipy.stats as stats\n",
    "# create a pandas dataframe with the data\n",
    "df = pd.DataFrame({\n",
    "    'cricket_value': [80, 20, 30, 90, 10, 95, 70, 25, 15, 85],\n",
    "    'temperature': [30, 30, 30, 20, 20, 20, 10, 10, 10, 10]\n",
    "})\n",
    "# fit a linear regression model\n",
    "model = np.polyfit(df['temperature'], df['cricket_value'], 1)\n",
    "predicted = np.polyval(model, df['temperature'])\n",
    "# calculate the residual sum of squares\n",
    "rss = np.sum((df['cricket_value'] - predicted)**2)\n",
    "# calculate the degrees of freedom\n",
    "dof = len(df) - 2\n",
    "# calculate the variance of the residuals\n",
    "variance = rss / dof\n",
    "# calculate the expected values assuming no relationship between variables\n",
    "expected = np.polyval(model, df['temperature'])\n",
    "expected_counts, _ = np.histogram(expected, bins=10)\n",
    "# calculate the observed values\n",
    "observed_counts, _ = np.histogram(df['cricket_value'], bins=10)\n",
    "# perform the chi-square test\n",
    "chi2, p_value = stats.chisquare(observed_counts, expected_counts)\n",
    "\n",
    "# print the results\n",
    "print('Chi-square statistic:', chi2)\n",
    "print('P-value:', p_value)\n",
    "print('Degrees of freedom:', dof)\n",
    "print('Variance of residuals:', variance)\n"
   ]
  }
 ],
 "metadata": {
  "kernelspec": {
   "display_name": "Python 3",
   "language": "python",
   "name": "python3"
  },
  "language_info": {
   "codemirror_mode": {
    "name": "ipython",
    "version": 3
   },
   "file_extension": ".py",
   "mimetype": "text/x-python",
   "name": "python",
   "nbconvert_exporter": "python",
   "pygments_lexer": "ipython3",
   "version": "3.10.11"
  },
  "orig_nbformat": 4
 },
 "nbformat": 4,
 "nbformat_minor": 2
}
