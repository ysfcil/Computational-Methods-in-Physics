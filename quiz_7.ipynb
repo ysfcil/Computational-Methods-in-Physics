{
 "cells": [
  {
   "cell_type": "code",
   "execution_count": 3,
   "metadata": {},
   "outputs": [],
   "source": [
    "import numpy as np\n",
    "import matplotlib.pyplot as plt\n",
    "import time\n",
    "import random"
   ]
  },
  {
   "cell_type": "code",
   "execution_count": 4,
   "metadata": {},
   "outputs": [
    {
     "name": "stdout",
     "output_type": "stream",
     "text": [
      "2.3426960879097307\n",
      "2.350336928680011\n",
      "2.350402092156377\n",
      "2.350402386462826\n"
     ]
    }
   ],
   "source": [
    "def my_func(x):\n",
    "    result = np.exp(-1*x)\n",
    "    return result\n",
    "#Two point method\n",
    "my_integral = my_func(-1/pow(3, 1/2)) + my_func(1/pow(3, 1/2))\n",
    "print(my_integral)\n",
    "#Three point method\n",
    "my_integral = (5/9)*my_func(-1*pow(3/5, 1/2)) + 8/9 * my_func(0) + (5/9)*my_func(pow(3/5, 1/2))\n",
    "print(my_integral)\n",
    "#Four point method\n",
    "my_integral = ((18+np.sqrt(30))/36)*my_func(np.sqrt(3/7-(2/7)*np.sqrt(6/5))) + ((18+np.sqrt(30))/36)*my_func(-1*np.sqrt(3/7-(2/7)*np.sqrt(6/5))) + ((18-np.sqrt(30))/36)*my_func(np.sqrt(3/7+(2/7)*np.sqrt(6/5))) + ((18-np.sqrt(30))/36)*my_func(-1*np.sqrt(3/7+(2/7)*np.sqrt(6/5)))\n",
    "print(my_integral)\n",
    "#Five point method\n",
    "my_integral = (322+13*np.sqrt(70))/900 * my_func((1/3)*np.sqrt(5-2*np.sqrt(10/7))) + (322+13*np.sqrt(70))/900 * my_func(-1*(1/3)*np.sqrt(5-2*np.sqrt(10/7))) + (322-13*np.sqrt(70))/900 * my_func((1/3)*np.sqrt(5+2*np.sqrt(10/7))) + (322-13*np.sqrt(70))/900 * my_func(-1*(1/3)*np.sqrt(5+2*np.sqrt(10/7))) + 128/225*my_func(0)\n",
    "print(my_integral)"
   ]
  }
 ],
 "metadata": {
  "kernelspec": {
   "display_name": "Python 3",
   "language": "python",
   "name": "python3"
  },
  "language_info": {
   "codemirror_mode": {
    "name": "ipython",
    "version": 3
   },
   "file_extension": ".py",
   "mimetype": "text/x-python",
   "name": "python",
   "nbconvert_exporter": "python",
   "pygments_lexer": "ipython3",
   "version": "3.10.11"
  },
  "orig_nbformat": 4
 },
 "nbformat": 4,
 "nbformat_minor": 2
}
