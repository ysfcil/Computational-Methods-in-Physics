{
 "cells": [
  {
   "cell_type": "code",
   "execution_count": 65,
   "metadata": {},
   "outputs": [],
   "source": [
    "import numpy as np\n",
    "import matplotlib.pyplot as plt\n",
    "import time\n",
    "import random"
   ]
  },
  {
   "cell_type": "code",
   "execution_count": 66,
   "metadata": {},
   "outputs": [
    {
     "name": "stdout",
     "output_type": "stream",
     "text": [
      "Student passed with 32 points after 14 years\n"
     ]
    }
   ],
   "source": [
    "years_tried = 0\n",
    "while True:\n",
    "    points = 0\n",
    "    for i in range(99):\n",
    "     answer = random.randrange(0,5)\n",
    "     if answer == 0:\n",
    "        points += 1\n",
    "    if points >= 30:\n",
    "       print(\"Student passed with {} points after {} years\".format(points,years_tried))\n",
    "       break\n",
    "    years_tried += 1\n",
    "    \n",
    "\n"
   ]
  }
 ],
 "metadata": {
  "kernelspec": {
   "display_name": "Python 3",
   "language": "python",
   "name": "python3"
  },
  "language_info": {
   "codemirror_mode": {
    "name": "ipython",
    "version": 3
   },
   "file_extension": ".py",
   "mimetype": "text/x-python",
   "name": "python",
   "nbconvert_exporter": "python",
   "pygments_lexer": "ipython3",
   "version": "3.10.11"
  },
  "orig_nbformat": 4
 },
 "nbformat": 4,
 "nbformat_minor": 2
}
