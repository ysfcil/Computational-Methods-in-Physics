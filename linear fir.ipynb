{
 "cells": [
  {
   "cell_type": "code",
   "execution_count": 11,
   "metadata": {},
   "outputs": [
    {
     "name": "stdout",
     "output_type": "stream",
     "text": [
      "[0.72970557]\n"
     ]
    }
   ],
   "source": [
    "#090200118 Yusuf Çil\n",
    "#Setting up the variablesi value of points are going to be used for calculations\n",
    "#pi list is for ploting\n",
    "#090200118 Yusuf Çil\n",
    "import numpy as np\n",
    "import matplotlib.pyplot as plt\n",
    "import time\n",
    "import random\n",
    "#Yusuf çil 090200118\n",
    "def my_linear_fitYÇ(x_data, y_data): #My fit function\n",
    "  sum_of_squareYÇ = 0\n",
    "  sum_of_productYÇ = 0 #these variables will be in the matrix\n",
    "  for i in range(len(x_data)):\n",
    "    sum_of_squareYÇ += x_data[i]**2 #sum of the squares\n",
    "    sum_of_productYÇ += y_data[i]*x_data[i] #sum of the products\n",
    "  MYÇ = np.array([[7, sum(x_data)], #first array\n",
    "                [sum(x_data), sum_of_squareYÇ]]) \n",
    "  vYÇ = np.array([[sum(y_data)], [sum_of_productYÇ]]) #second array\n",
    "  mYÇ, bYÇ = np.linalg.solve(MYÇ, vYÇ ) #solving the equation\n",
    "  return mYÇ , bYÇ #returning the values\n",
    "\n",
    "#Yusuf Çil 090200118\n",
    "f = open(r\"C:\\Users\\yusuf\\Downloads\\sleeplessnights.txt\", \"r\")#getting the file\n",
    "cricketsYÇ = [] #opening the list to hold cricket values easch night\n",
    "tempeture_FYÇ = [] #opening the list to hold tempature values each night\n",
    "for line in f:\n",
    "  currentLineYÇ = line.split(\" \") #columns are separted with a \" \" string\n",
    "  cricketsYÇ.append(float(currentLineYÇ[0]))\n",
    "  tempeture_FYÇ.append(float(currentLineYÇ[1])) #reading the data and filling the lists\n",
    "bYÇ, mYÇ = my_linear_fitYÇ(cricketsYÇ, tempeture_FYÇ)\n",
    "expectedYÇ = [] #will hold the values coming from the first hyphothesis\n",
    "finalcalcYÇ = [] #will hold the values after all the calculation is done\n",
    "for i in range(len(cricketsYÇ)):\n",
    "  expectedYÇ.append(mYÇ*cricketsYÇ[i]+bYÇ) #expected tempatures with the cricket values of each night according to our linear model\n",
    "  finalcalcYÇ.append((tempeture_FYÇ[i]-expectedYÇ[i])**2/expectedYÇ[i])#chi test caluclations with observed data\n",
    "print(sum(finalcalcYÇ))\n"
   ]
  }
 ],
 "metadata": {
  "kernelspec": {
   "display_name": "Python 3",
   "language": "python",
   "name": "python3"
  },
  "language_info": {
   "codemirror_mode": {
    "name": "ipython",
    "version": 3
   },
   "file_extension": ".py",
   "mimetype": "text/x-python",
   "name": "python",
   "nbconvert_exporter": "python",
   "pygments_lexer": "ipython3",
   "version": "3.10.11"
  },
  "orig_nbformat": 4
 },
 "nbformat": 4,
 "nbformat_minor": 2
}
