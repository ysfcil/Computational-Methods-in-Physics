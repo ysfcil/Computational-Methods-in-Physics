{
 "cells": [
  {
   "cell_type": "code",
   "execution_count": 23,
   "metadata": {},
   "outputs": [],
   "source": [
    "import numpy as np\n",
    "import numpy.linalg as linalg\n",
    "import matplotlib.pyplot as plt\n",
    "import time\n",
    "import random\n"
   ]
  },
  {
   "cell_type": "code",
   "execution_count": 24,
   "metadata": {},
   "outputs": [
    {
     "name": "stdout",
     "output_type": "stream",
     "text": [
      "Dominant eigenvalue is  4.000005340695202\n"
     ]
    }
   ],
   "source": [
    "A = np.matrix([[0, 11, -5], [-2, 17, -7], [-4,26, -10]])\n",
    "X = np.array([1, 1, 1])\n",
    "tolerance_value = 10**(-5)\n",
    "eigenval = linalg.eig(A)\n",
    "prev = 0\n",
    "while True:\n",
    " Y = X * A\n",
    " X = (1/Y.max())*Y\n",
    " if (prev - Y.max())**2<tolerance_value**2:\n",
    "  print(\"Dominant eigenvalue is \", Y.max())\n",
    "  break\n",
    " prev = Y.max()\n",
    " "
   ]
  }
 ],
 "metadata": {
  "kernelspec": {
   "display_name": "Python 3",
   "language": "python",
   "name": "python3"
  },
  "language_info": {
   "codemirror_mode": {
    "name": "ipython",
    "version": 3
   },
   "file_extension": ".py",
   "mimetype": "text/x-python",
   "name": "python",
   "nbconvert_exporter": "python",
   "pygments_lexer": "ipython3",
   "version": "3.10.11"
  },
  "orig_nbformat": 4,
  "vscode": {
   "interpreter": {
    "hash": "d22b44d74a16427c97481a9c9b720e9de4ec9fed8aa706df0d717a95efe57ce0"
   }
  }
 },
 "nbformat": 4,
 "nbformat_minor": 2
}
