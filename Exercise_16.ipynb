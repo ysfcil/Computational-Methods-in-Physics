{
 "cells": [
  {
   "cell_type": "code",
   "execution_count": 155,
   "metadata": {},
   "outputs": [],
   "source": [
    "import numpy as np\n",
    "import matplotlib.pyplot as plt\n",
    "import time\n",
    "import random"
   ]
  },
  {
   "cell_type": "code",
   "execution_count": 156,
   "metadata": {},
   "outputs": [
    {
     "name": "stdout",
     "output_type": "stream",
     "text": [
      "Yusuf got married at 38863.8625\n",
      "Yusuf got married at 100550.68888888891\n",
      "Yusuf got married at 162831.9666666667\n",
      "Yusuf got married at 268370.3513888889\n",
      "Yusuf got married at 293162.2013888889\n",
      "Yusuf got married at 303379.7916666666\n",
      "Yusuf got married at 305968.8263888889\n",
      "Yusuf got married at 330704.0708333333\n",
      "Yusuf got married at 383907.3833333333\n",
      "Yusuf got married at 546863.7374999999\n",
      "Yusuf got married at 606969.8138888888\n",
      "Yusuf got married at 733780.2291666666\n",
      "Yusuf got married at 806372.0138888888\n",
      "Yusuf got married at 1306335.425\n",
      "Yusuf got married at 1319258.201388889\n",
      "Yusuf got married at 1551039.125\n",
      "Yusuf got married at 1552680.513888889\n",
      "Yusuf died at subway, age 1621463.0\n"
     ]
    }
   ],
   "source": [
    "Yusuf_age = 25\n",
    "days = 0\n",
    "while True:\n",
    "    if random.random()<0.5:\n",
    "        if random.random()<0.00005:\n",
    "            print(\"Yusuf died while walking, age {}\".format(Yusuf_age))\n",
    "            break\n",
    "        if random.random()<0.01:\n",
    "            if random.random() < 0.03:\n",
    "                print(\"Yusuf got married at {}\".format(Yusuf_age))\n",
    "    else:\n",
    "         if random.random()<0.00002:\n",
    "            print(\"Yusuf died at subway, age {}\".format(Yusuf_age))\n",
    "            break\n",
    "         if random.random()<0.005:\n",
    "            if random.random() < 0.03:\n",
    "                print(\"Yusuf got married at {}\".format(Yusuf_age))\n",
    "    days += 1\n",
    "    Yusuf_age += days/720\n"
   ]
  }
 ],
 "metadata": {
  "kernelspec": {
   "display_name": "Python 3",
   "language": "python",
   "name": "python3"
  },
  "language_info": {
   "codemirror_mode": {
    "name": "ipython",
    "version": 3
   },
   "file_extension": ".py",
   "mimetype": "text/x-python",
   "name": "python",
   "nbconvert_exporter": "python",
   "pygments_lexer": "ipython3",
   "version": "3.10.11"
  },
  "orig_nbformat": 4
 },
 "nbformat": 4,
 "nbformat_minor": 2
}
