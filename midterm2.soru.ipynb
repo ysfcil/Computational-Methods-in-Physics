{
 "cells": [
  {
   "cell_type": "code",
   "execution_count": 13,
   "metadata": {},
   "outputs": [],
   "source": [
    "import numpy as np\n",
    "import matplotlib.pyplot as plt\n",
    "import time\n",
    "import random"
   ]
  },
  {
   "cell_type": "code",
   "execution_count": 14,
   "metadata": {},
   "outputs": [
    {
     "name": "stdout",
     "output_type": "stream",
     "text": [
      "t-statistic:  26.999058363994344\n",
      "p-value:  -0.8124705738748232\n"
     ]
    }
   ],
   "source": [
    "#Yusuf Çil 090200118\n",
    "f = open(r\"C:\\Users\\yusuf\\Downloads\\sleeplessnights.txt\", \"r\")#getting the file\n",
    "cricketsYÇ = [] #opening the list to hold cricket values easch night\n",
    "tempeture_FYÇ = [] #opening the list to hold tempature values each night\n",
    "for line in f:\n",
    "  currentLineYÇ = line.split(\" \") #columns are separted with a \" \" string\n",
    "  cricketsYÇ.append(float(currentLineYÇ[0]))\n",
    "  tempeture_FYÇ.append(float(currentLineYÇ[1])) #reading the data and filling the lists\n",
    "m,b = np.polyfit(cricketsYÇ, tempeture_FYÇ, 1) #doing a linear fit as the primary hypothesis\n",
    "expectedYÇ = [] #will hold the values coming from the first hyphothesis\n",
    "finalcalcYÇ = [] #will hold the values after all the calculation is done\n",
    "for i in range(len(cricketsYÇ)):\n",
    "  expectedYÇ.append(cricketsYÇ[i]*m + b) #expected tempatures with the cricket values of each night according to our linear model\n",
    "  finalcalcYÇ.append((tempeture_FYÇ[i]-expectedYÇ[i])**2/expectedYÇ[i])#chi test caluclations with observed data\n"
   ]
  }
 ],
 "metadata": {
  "kernelspec": {
   "display_name": "Python 3",
   "language": "python",
   "name": "python3"
  },
  "language_info": {
   "codemirror_mode": {
    "name": "ipython",
    "version": 3
   },
   "file_extension": ".py",
   "mimetype": "text/x-python",
   "name": "python",
   "nbconvert_exporter": "python",
   "pygments_lexer": "ipython3",
   "version": "3.10.11"
  },
  "orig_nbformat": 4
 },
 "nbformat": 4,
 "nbformat_minor": 2
}
