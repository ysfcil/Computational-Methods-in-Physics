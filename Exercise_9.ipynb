{
 "cells": [
  {
   "cell_type": "code",
   "execution_count": 1,
   "metadata": {},
   "outputs": [],
   "source": [
    "import numpy as np\n",
    "import matplotlib.pyplot as plt\n",
    "import time\n",
    "import random"
   ]
  },
  {
   "cell_type": "code",
   "execution_count": 2,
   "metadata": {},
   "outputs": [
    {
     "name": "stdout",
     "output_type": "stream",
     "text": [
      "Dead 289056\n"
     ]
    }
   ],
   "source": [
    "year_ = 2023\n",
    "while True:\n",
    "    \n",
    "    x_ = random.randrange(-180, 180)\n",
    "    y_ = random.randrange(-90, 90)\n",
    "    \n",
    "    if ( x_ > 26 and  x_ < 45 and y_ > 36 and y_ < 42 and random.randint(0,1000)<2):\n",
    "        print(\"Dead\", year_)\n",
    "        break\n",
    "    else:\n",
    "        year_ += 1\n",
    "    "
   ]
  },
  {
   "cell_type": "code",
   "execution_count": null,
   "metadata": {},
   "outputs": [],
   "source": []
  }
 ],
 "metadata": {
  "kernelspec": {
   "display_name": "Python 3",
   "language": "python",
   "name": "python3"
  },
  "language_info": {
   "codemirror_mode": {
    "name": "ipython",
    "version": 3
   },
   "file_extension": ".py",
   "mimetype": "text/x-python",
   "name": "python",
   "nbconvert_exporter": "python",
   "pygments_lexer": "ipython3",
   "version": "3.10.11"
  },
  "orig_nbformat": 4
 },
 "nbformat": 4,
 "nbformat_minor": 2
}
