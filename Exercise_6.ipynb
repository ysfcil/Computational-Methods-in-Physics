{
 "cells": [
  {
   "cell_type": "code",
   "execution_count": 3,
   "metadata": {},
   "outputs": [],
   "source": [
    "import numpy as np\n",
    "import matplotlib.pyplot as plt\n",
    "import time\n",
    "import random"
   ]
  },
  {
   "cell_type": "code",
   "execution_count": 4,
   "metadata": {},
   "outputs": [
    {
     "name": "stdout",
     "output_type": "stream",
     "text": [
      "77\n"
     ]
    }
   ],
   "source": [
    "\n",
    "students = np.random.uniform(low=100, high=170, size=(150))\n",
    "filter_arr = students > 120\n",
    "escaped = students[filter_arr]\n",
    "v1 = np.random.rand(len(escaped))\n",
    "filter_arr = v1 >= 0.20\n",
    "not_catched = escaped[filter_arr]\n",
    "print(len(not_catched))"
   ]
  }
 ],
 "metadata": {
  "kernelspec": {
   "display_name": "Python 3",
   "language": "python",
   "name": "python3"
  },
  "language_info": {
   "codemirror_mode": {
    "name": "ipython",
    "version": 3
   },
   "file_extension": ".py",
   "mimetype": "text/x-python",
   "name": "python",
   "nbconvert_exporter": "python",
   "pygments_lexer": "ipython3",
   "version": "3.10.11"
  },
  "orig_nbformat": 4,
  "vscode": {
   "interpreter": {
    "hash": "d22b44d74a16427c97481a9c9b720e9de4ec9fed8aa706df0d717a95efe57ce0"
   }
  }
 },
 "nbformat": 4,
 "nbformat_minor": 2
}
