{
 "cells": [
  {
   "cell_type": "code",
   "execution_count": 88,
   "metadata": {},
   "outputs": [],
   "source": [
    "import numpy as np\n",
    "import matplotlib.pyplot as plt\n",
    "import time\n",
    "import random"
   ]
  },
  {
   "cell_type": "code",
   "execution_count": 89,
   "metadata": {},
   "outputs": [
    {
     "name": "stdout",
     "output_type": "stream",
     "text": [
      "[82, 66, 96]\n",
      "Player 1 started over\n",
      "Player 2 started over\n",
      "Player 1 started over\n",
      "Player 2 won\n"
     ]
    }
   ],
   "source": [
    "pos_1 = 0\n",
    "pos_2 = 0\n",
    "holes = [random.randint(0,100), random.randint(0,100), random.randint(0,100)]\n",
    "print(holes)\n",
    "while True:\n",
    "    dice = random.randint(1, 6)\n",
    "    pos_1 += dice \n",
    "    if holes.count(pos_1) == 1:\n",
    "        pos_1 = 0  \n",
    "        print(\"Player 1 started over\")\n",
    "    dice = random.randint(1, 6)\n",
    "    pos_2 += dice\n",
    "    if holes.count(pos_2) == 1:\n",
    "        pos_2 = 0\n",
    "        print(\"Player 2 started over\")\n",
    "    if pos_1 >= 100:\n",
    "        print(\"Player 1 won\")\n",
    "        break\n",
    "    if pos_2 >= 100:\n",
    "        print(\"Player 2 won\")\n",
    "        break\n"
   ]
  }
 ],
 "metadata": {
  "kernelspec": {
   "display_name": "Python 3",
   "language": "python",
   "name": "python3"
  },
  "language_info": {
   "codemirror_mode": {
    "name": "ipython",
    "version": 3
   },
   "file_extension": ".py",
   "mimetype": "text/x-python",
   "name": "python",
   "nbconvert_exporter": "python",
   "pygments_lexer": "ipython3",
   "version": "3.10.11"
  },
  "orig_nbformat": 4
 },
 "nbformat": 4,
 "nbformat_minor": 2
}
