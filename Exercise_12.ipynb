{
 "cells": [
  {
   "cell_type": "code",
   "execution_count": 5,
   "metadata": {},
   "outputs": [],
   "source": [
    "import numpy as np\n",
    "import matplotlib.pyplot as plt\n",
    "import time\n",
    "import random"
   ]
  },
  {
   "cell_type": "code",
   "execution_count": 6,
   "metadata": {},
   "outputs": [
    {
     "name": "stdout",
     "output_type": "stream",
     "text": [
      "4725 5275\n"
     ]
    }
   ],
   "source": [
    "jon_wins = 0\n",
    "tyrion_wins = 0\n",
    "for i in range(10000):\n",
    " while True:\n",
    "    tyrion = 0\n",
    "    jon = 0\n",
    "    for i in range(3):\n",
    "        dice_roll = random.randrange(-4, 5)\n",
    "        tyrion += dice_roll\n",
    "        dice_roll = random.randrange(-4, 5)\n",
    "        jon += dice_roll\n",
    "    if jon == 0:\n",
    "        jon_wins += 1\n",
    "        break\n",
    "    if tyrion == 0:\n",
    "        tyrion_wins += 1\n",
    "        break\n",
    "\n",
    "print(tyrion_wins, jon_wins)\n",
    "    "
   ]
  }
 ],
 "metadata": {
  "kernelspec": {
   "display_name": "Python 3",
   "language": "python",
   "name": "python3"
  },
  "language_info": {
   "codemirror_mode": {
    "name": "ipython",
    "version": 3
   },
   "file_extension": ".py",
   "mimetype": "text/x-python",
   "name": "python",
   "nbconvert_exporter": "python",
   "pygments_lexer": "ipython3",
   "version": "3.10.11"
  },
  "orig_nbformat": 4
 },
 "nbformat": 4,
 "nbformat_minor": 2
}
