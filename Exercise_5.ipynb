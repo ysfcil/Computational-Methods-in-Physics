{
 "cells": [
  {
   "cell_type": "code",
   "execution_count": 3,
   "metadata": {},
   "outputs": [],
   "source": [
    "#exercise 5, calculation of pi with circle\n",
    "import numpy as np\n",
    "import matplotlib.pyplot as plt\n",
    "import time\n",
    "import random"
   ]
  },
  {
   "cell_type": "code",
   "execution_count": 4,
   "metadata": {},
   "outputs": [
    {
     "name": "stdout",
     "output_type": "stream",
     "text": [
      "3.14182\n"
     ]
    }
   ],
   "source": [
    "all_points = 0\n",
    "points_in_circle = 0\n",
    "tick = time.time()\n",
    "for k in range(10**6):\n",
    "    \n",
    "    point = np.random.rand(2)\n",
    "    my_distance = np.sqrt(point[0]**2 + point[1]**2)\n",
    "    all_points += 1\n",
    "    if my_distance < 1:\n",
    "        points_in_circle += 1\n",
    "tock = time.time()\n",
    "my_pi = points_in_circle*4/all_points\n",
    "print(my_pi)\n",
    "    \n"
   ]
  }
 ],
 "metadata": {
  "kernelspec": {
   "display_name": "Python 3",
   "language": "python",
   "name": "python3"
  },
  "language_info": {
   "codemirror_mode": {
    "name": "ipython",
    "version": 3
   },
   "file_extension": ".py",
   "mimetype": "text/x-python",
   "name": "python",
   "nbconvert_exporter": "python",
   "pygments_lexer": "ipython3",
   "version": "3.10.11"
  },
  "orig_nbformat": 4,
  "vscode": {
   "interpreter": {
    "hash": "d22b44d74a16427c97481a9c9b720e9de4ec9fed8aa706df0d717a95efe57ce0"
   }
  }
 },
 "nbformat": 4,
 "nbformat_minor": 2
}
